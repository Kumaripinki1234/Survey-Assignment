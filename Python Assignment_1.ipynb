{
 "cells": [
  {
   "cell_type": "markdown",
   "id": "6df519b3",
   "metadata": {},
   "source": [
    "#### 1. Simple Message: Store a message in a variable, and then print that message."
   ]
  },
  {
   "cell_type": "code",
   "execution_count": null,
   "id": "ac907d5c",
   "metadata": {},
   "outputs": [],
   "source": [
    "Message = \"Python Basics - Assignment\"\n",
    "print(Message)"
   ]
  },
  {
   "cell_type": "markdown",
   "id": "33781330",
   "metadata": {},
   "source": [
    "#### 2. Store a message in a variable and print that message. Then change the value of your variable to a new message and print the new message."
   ]
  },
  {
   "cell_type": "code",
   "execution_count": 2,
   "id": "6b1114d5",
   "metadata": {},
   "outputs": [
    {
     "name": "stdout",
     "output_type": "stream",
     "text": [
      "Python Basics - Assignment\n",
      "Python Basics - Project\n"
     ]
    }
   ],
   "source": [
    "Message1 = \"Python Basics - Assignment\"\n",
    "print(Message1)\n",
    "\n",
    "Message2 = \"Python Basics - Project\"\n",
    "print(Message2)"
   ]
  },
  {
   "cell_type": "markdown",
   "id": "ef804c42",
   "metadata": {},
   "source": [
    "#### 3.Store a person’s name in a variable and print a message to that person. Your message should be simple, such as, “Hello Eric, would you like to learn some Python today?”"
   ]
  },
  {
   "cell_type": "code",
   "execution_count": 3,
   "id": "0ce830e7",
   "metadata": {},
   "outputs": [
    {
     "name": "stdout",
     "output_type": "stream",
     "text": [
      "Hello Eric, would you like to learn some Python today?\n"
     ]
    }
   ],
   "source": [
    "fName=\"Eric\"\n",
    "print(f\"Hello {fName}, would you like to learn some Python today?\")"
   ]
  },
  {
   "cell_type": "markdown",
   "id": "0e47a5e6",
   "metadata": {},
   "source": [
    "#### 4. Find a quote from a famous person you admire. Print the quote and the name of its author. Your output should look something like the following, including the quotation marks: Albert Einstein once said, “A person who never made a mistake never tried anything new.”"
   ]
  },
  {
   "cell_type": "code",
   "execution_count": 4,
   "id": "310d5d91",
   "metadata": {},
   "outputs": [
    {
     "name": "stdout",
     "output_type": "stream",
     "text": [
      "John Lennon once said, \"Life is what happens when you’re busy making other plans\"\n"
     ]
    }
   ],
   "source": [
    "Quote = '\"Life is what happens when you’re busy making other plans\"'\n",
    "print(\"John Lennon once said\"',',Quote)"
   ]
  },
  {
   "cell_type": "markdown",
   "id": "55b37221",
   "metadata": {},
   "source": [
    "#### 5. Repeat Exercise 4, but this time store the famous person’s name in a variable called famous_person. Then compose your message and store it in a new variable called message. Print your message."
   ]
  },
  {
   "cell_type": "code",
   "execution_count": 5,
   "id": "bec5d529",
   "metadata": {},
   "outputs": [
    {
     "name": "stdout",
     "output_type": "stream",
     "text": [
      "John Lennon once said, \"Life is what happens when you’re busy making other plans\"\n"
     ]
    }
   ],
   "source": [
    "famous_person = \"John Lennon\"\n",
    "Quote = '\"Life is what happens when you’re busy making other plans\"'\n",
    "print(f\"{famous_person} once said\"',',Quote)"
   ]
  },
  {
   "cell_type": "markdown",
   "id": "5cdf4f95",
   "metadata": {},
   "source": [
    "#### 6.Write addition, subtraction, multiplication, and division operations that each result in the number 8. Be sure to enclose your operations in print statements to see the results. You should create four lines that look like this: print (5 + 3).Your output should simply be four lines with the number 8 appearing once on each line."
   ]
  },
  {
   "cell_type": "code",
   "execution_count": 6,
   "id": "bdc0fee6",
   "metadata": {},
   "outputs": [
    {
     "name": "stdout",
     "output_type": "stream",
     "text": [
      "8\n",
      "8\n",
      "8\n",
      "8\n"
     ]
    }
   ],
   "source": [
    "print(5+3)\n",
    "print(10-2)\n",
    "print(4*2)\n",
    "print(int(16/2))"
   ]
  },
  {
   "cell_type": "markdown",
   "id": "d1ea89d1",
   "metadata": {},
   "source": [
    "#### 7. Store your favourite number in a variable. Then, using that variable, create a message that reveals your favourite number. Print that message."
   ]
  },
  {
   "cell_type": "code",
   "execution_count": 7,
   "id": "7fcf9008",
   "metadata": {},
   "outputs": [
    {
     "name": "stdout",
     "output_type": "stream",
     "text": [
      "My favourite number is 14\n"
     ]
    }
   ],
   "source": [
    "fav_number = \"14\"             \n",
    "text = \"My favourite number is\"            \n",
    "print(f\"{text}\", fav_number)"
   ]
  },
  {
   "cell_type": "markdown",
   "id": "901eba25",
   "metadata": {},
   "source": [
    "##### 8. Choose two of the programs you’ve written and add at least one comment to each. If you don’t have anything specific to write because your programs are too simple at this point, just add your name and the current date at the top of each program file. Then write one sentence describing what the program does."
   ]
  },
  {
   "cell_type": "code",
   "execution_count": 8,
   "id": "1a6ac87c",
   "metadata": {},
   "outputs": [
    {
     "name": "stdout",
     "output_type": "stream",
     "text": [
      "Python Basics - Assignment\n",
      "dd/mm/yyyy 11/02/2022\n"
     ]
    }
   ],
   "source": [
    "print(\"Python Basics - Assignment\")         ## Python Assignment is done by Pinki\n",
    "Date = input(\"dd/mm/yyyy \")                 ## Python Assignment has been completed on 11/02/22"
   ]
  },
  {
   "cell_type": "markdown",
   "id": "e8908854",
   "metadata": {},
   "source": [
    "#### 9. Store the names of a few of your friends in a list called names. Print each person’s name by accessing each element in the list, one at a time."
   ]
  },
  {
   "cell_type": "code",
   "execution_count": 13,
   "id": "09bbe439",
   "metadata": {},
   "outputs": [
    {
     "name": "stdout",
     "output_type": "stream",
     "text": [
      "Name of the friends list - Ruby, Vaishali, Adarshna, Rahul\n",
      "Name of friend Ruby\n"
     ]
    }
   ],
   "source": [
    "friends_name = \"Ruby, Vaishali, Adarshna, Rahul\"\n",
    "print(\"Name of the friends list\",\"-\",friends_name)\n",
    "friend_name = input(\"Name of friend \")"
   ]
  },
  {
   "cell_type": "markdown",
   "id": "788667a0",
   "metadata": {},
   "source": [
    "#### 10. Start with the list you used in Exercise 9, but instead of just printing each person’s name, print a message to them. The text of each message should be the same, but each message should be personalized with the person’s name."
   ]
  },
  {
   "cell_type": "code",
   "execution_count": 11,
   "id": "6ac12610",
   "metadata": {},
   "outputs": [
    {
     "name": "stdout",
     "output_type": "stream",
     "text": [
      "Have a nice day - Ruby \n",
      "Have a nice day - Vaishali \n",
      "Have a nice day - Adarshna \n",
      "Have a nice day - Rahul\n"
     ]
    }
   ],
   "source": [
    "friends_name = \"Ruby, Vaishali, Adarshna, Rahul\"\n",
    "print(\"Have a nice day - Ruby\", \"\\nHave a nice day - Vaishali\", \"\\nHave a nice day - Adarshna\", \"\\nHave a nice day - Rahul\")"
   ]
  },
  {
   "cell_type": "markdown",
   "id": "f8ffed6e",
   "metadata": {},
   "source": [
    "#### 11. Think of your favourite mode of transportation, such as a motorcycle or a car, and make a list that stores several examples. Use your list to print a series of statements about these items, such as “I would like to own a Honda motorcycle.”"
   ]
  },
  {
   "cell_type": "code",
   "execution_count": 12,
   "id": "e4fbbfe9",
   "metadata": {},
   "outputs": [
    {
     "name": "stdout",
     "output_type": "stream",
     "text": [
      "I want to buy - Car \n",
      "I want to buy - Bike \n",
      "I want to buy - Train \n",
      "I want to buy - Ship \n",
      "I want to buy - Aeroplane\n"
     ]
    }
   ],
   "source": [
    "Transpotation = \"Car, Bike, Ship, Train, Ship, Aeroplane\"\n",
    "print(\"I want to buy - Car\", \"\\nI want to buy - Bike\", \"\\nI want to buy - Train\", \"\\nI want to buy - Ship\", \"\\nI want to buy - Aeroplane\")"
   ]
  }
 ],
 "metadata": {
  "kernelspec": {
   "display_name": "Python 3 (ipykernel)",
   "language": "python",
   "name": "python3"
  },
  "language_info": {
   "codemirror_mode": {
    "name": "ipython",
    "version": 3
   },
   "file_extension": ".py",
   "mimetype": "text/x-python",
   "name": "python",
   "nbconvert_exporter": "python",
   "pygments_lexer": "ipython3",
   "version": "3.9.7"
  }
 },
 "nbformat": 4,
 "nbformat_minor": 5
}
